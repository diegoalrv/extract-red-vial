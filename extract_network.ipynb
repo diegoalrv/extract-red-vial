{
 "cells": [
  {
   "cell_type": "code",
   "execution_count": 6,
   "metadata": {},
   "outputs": [],
   "source": [
    "import osmnx as ox\n",
    "import geopandas as gpd\n",
    "import warnings\n",
    "warnings.filterwarnings('ignore')\n",
    "import os"
   ]
  },
  {
   "cell_type": "code",
   "execution_count": 7,
   "metadata": {},
   "outputs": [],
   "source": [
    "# Configurar el nombre del lugar\n",
    "place_name = \"Talcahuano, Chile\"\n",
    "\n",
    "# Descargar la red vial (drive/walk) desde OpenStreetMap\n",
    "network_type = \"walk\"\n",
    "graph = ox.graph_from_place(place_name, network_type=network_type)"
   ]
  },
  {
   "cell_type": "code",
   "execution_count": 8,
   "metadata": {},
   "outputs": [],
   "source": [
    "output_path = f'data/talcahuano/{network_type}'\n",
    "os.makedirs(output_path, exist_ok=True)"
   ]
  },
  {
   "cell_type": "code",
   "execution_count": 9,
   "metadata": {},
   "outputs": [
    {
     "name": "stdout",
     "output_type": "stream",
     "text": [
      "Archivos Shapefile guardados:\n",
      " - Nodos: data/talcahuano/walk/nodes\n",
      " - Aristas: data/talcahuano/walk/edges\n"
     ]
    }
   ],
   "source": [
    "# Convertir los nodos y las aristas a GeoDataFrames\n",
    "gdf_nodes, gdf_edges = ox.graph_to_gdfs(graph)\n",
    "\n",
    "# Definir los nombres de los archivos de salida\n",
    "nodes_shp_file = f\"{output_path}/nodes\"\n",
    "edges_shp_file = f\"{output_path}/edges\"\n",
    "\n",
    "# Guardar los nodos y las aristas como archivos shapefile\n",
    "gdf_nodes.to_file(nodes_shp_file, driver=\"ESRI Shapefile\")\n",
    "gdf_edges.to_file(edges_shp_file, driver=\"ESRI Shapefile\")\n",
    "\n",
    "print(f\"Archivos Shapefile guardados:\")\n",
    "print(f\" - Nodos: {nodes_shp_file}\")\n",
    "print(f\" - Aristas: {edges_shp_file}\")"
   ]
  },
  {
   "cell_type": "code",
   "execution_count": 10,
   "metadata": {},
   "outputs": [
    {
     "name": "stdout",
     "output_type": "stream",
     "text": [
      "Zip file created: data/talcahuano/walk/talcahuano_walk.zip\n"
     ]
    }
   ],
   "source": [
    "import shutil\n",
    "\n",
    "# Define the name of the zip file\n",
    "zip_file = f\"{output_path}/talcahuano_{network_type}.zip\"\n",
    "\n",
    "# Create a zip file containing the nodes and edges folders\n",
    "shutil.make_archive(zip_file.replace('.zip', ''), 'zip', output_path)\n",
    "\n",
    "print(f\"Zip file created: {zip_file}\")"
   ]
  }
 ],
 "metadata": {
  "kernelspec": {
   "display_name": ".venv",
   "language": "python",
   "name": "python3"
  },
  "language_info": {
   "codemirror_mode": {
    "name": "ipython",
    "version": 3
   },
   "file_extension": ".py",
   "mimetype": "text/x-python",
   "name": "python",
   "nbconvert_exporter": "python",
   "pygments_lexer": "ipython3",
   "version": "3.12.8"
  }
 },
 "nbformat": 4,
 "nbformat_minor": 2
}
